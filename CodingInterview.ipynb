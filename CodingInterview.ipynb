{
 "cells": [
  {
   "cell_type": "code",
   "execution_count": 1,
   "metadata": {},
   "outputs": [],
   "source": [
    "import os\n",
    "import re\n",
    "from PIL import Image\n",
    "from sklearn.model_selection import train_test_split"
   ]
  },
  {
   "cell_type": "code",
   "execution_count": 2,
   "metadata": {},
   "outputs": [],
   "source": [
    "data_path = '/Users/lauren/Desktop/CodingInterview'\n",
    "frame_path = data_path + '/imgs_small'\n",
    "mask_path = data_path + '/masks_small'\n"
   ]
  },
  {
   "cell_type": "code",
   "execution_count": null,
   "metadata": {},
   "outputs": [],
   "source": [
    "# create folders to hold images\n",
    "folders = ['train_frames', 'train_masks','val_frames', 'val_masks', 'test_frames', 'test_masks']\n",
    "\n",
    "for folder in folders:\n",
    "    os.makedirs(data_path+'/'+folder)"
   ]
  },
  {
   "cell_type": "code",
   "execution_count": null,
   "metadata": {},
   "outputs": [],
   "source": [
    "#get all frames and masks, sort them, shuffle them to generate data sets\n",
    "\n",
    "all_frames = os.listdir(frame_path)\n",
    "\n",
    "all_masks = os.listdir(mask_path)\n",
    "\n",
    "all_frames.sort(key=lambda var: [int(x) if x.isdigit() else x for x in re.findall(r'[^0-9]|[0-9]+', var)])\n",
    "\n",
    "all_masks.sort(key=lambda var: [int(x) if x.isdigit() else x for x in re.findall(r'[^0-9]|[0-9]+', var)])\n",
    "\n",
    "#generate train, val, and test sets for frames\n",
    "\n",
    "img_train, img_test, mask_train, mask_test = train_test_split(all_frames, all_masks, test_size=0.1, random_state=230)\n",
    "\n",
    "img_train, img_val, mask_train, mask_val= train_test_split(img_train, mask_train, test_size=0.2, random_state=230)"
   ]
  },
  {
   "cell_type": "code",
   "execution_count": null,
   "metadata": {},
   "outputs": [],
   "source": [
    "#add train, val and test data to correct folders"
   ]
  },
  {
   "cell_type": "code",
   "execution_count": null,
   "metadata": {},
   "outputs": [],
   "source": [
    "def add_frames(dir_name, image):\n",
    "    img = Image.open(frame_path+'/'+image)\n",
    "    new_name =data_path+'/'+ dir_name + '/'+ image\n",
    "    img.save(new_name)\n",
    "\n",
    "def add_masks(dir_name, image):\n",
    "    img = Image.open(mask_path+'/'+image)\n",
    "    new_name =data_path+'/'+ dir_name + '/'+ image\n",
    "    img.save(new_name)"
   ]
  },
  {
   "cell_type": "code",
   "execution_count": null,
   "metadata": {},
   "outputs": [],
   "source": [
    "frame_folders= [(img_train, 'train_frames'),(img_val, 'val_frames'), (img_test, 'test_frames')]\n",
    "\n",
    "mask_folders= [(mask_train, 'train_masks'),(mask_val, 'val_masks'), (mask_test, 'test_masks')]"
   ]
  },
  {
   "cell_type": "code",
   "execution_count": null,
   "metadata": {},
   "outputs": [],
   "source": [
    "for folder in frame_folders:\n",
    "    array = folder[0]\n",
    "    name = [folder[1]] *len(array)\n",
    "    list(map(add_frames, name, array))"
   ]
  },
  {
   "cell_type": "code",
   "execution_count": null,
   "metadata": {},
   "outputs": [],
   "source": [
    "for folder in mask_folders:\n",
    "    array = folder[0]\n",
    "    name = [folder[1]] *len(array)\n",
    "    list(map(add_masks, name, array))"
   ]
  },
  {
   "cell_type": "code",
   "execution_count": null,
   "metadata": {},
   "outputs": [],
   "source": [
    "#sorted results to make sure the images and masks were in the correct folders\n",
    "\n",
    "# img_train.sort(key=lambda var: [int(x) if x.isdigit() else x for x in re.findall(r'[^0-9]|[0-9]+', var)])\n",
    "\n",
    "# img_test.sort(key=lambda var: [int(x) if x.isdigit() else x for x in re.findall(r'[^0-9]|[0-9]+', var)])\n",
    "\n",
    "# img_val.sort(key=lambda var: [int(x) if x.isdigit() else x for x in re.findall(r'[^0-9]|[0-9]+', var)])"
   ]
  },
  {
   "cell_type": "markdown",
   "metadata": {},
   "source": [
    "# Data Augmentation"
   ]
  },
  {
   "cell_type": "code",
   "execution_count": null,
   "metadata": {},
   "outputs": [],
   "source": [
    "from keras.preprocessing.image import ImageDataGenerator"
   ]
  },
  {
   "cell_type": "code",
   "execution_count": null,
   "metadata": {},
   "outputs": [],
   "source": [
    "train_datagen =ImageDataGenerator(rescale= 1./255, shear_range=0.2, zoom_range=0.2, horizontal_flip=True)\n",
    "val_datagen = ImageDataGenerator(rescale=1./255)\n",
    "\n",
    "\n",
    "train_image_generator = train_datagen.flow_from_directory(f'{data_path}/train_frames/',batch_size=4,color_mode=\"grayscale\",class_mode=None)\n",
    "train_mask_generator = train_datagen.flow_from_directory(f'{data_path}/train_masks/',color_mode=\"grayscale\",class_mode=None)\n",
    "\n",
    "\n",
    "val_image_generator = val_datagen.flow_from_directory(f'{data_path}/val_frames/',batch_size=4,color_mode=\"grayscale\",class_mode=None )\n",
    "val_mask_generator = val_datagen.flow_from_directory(f'{data_path}/val_masks/',batch_size=4, color_mode=\"grayscale\",class_mode=None)\n",
    "\n",
    "train_generator = zip(train_image_generator, train_mask_generator)\n",
    "val_generator = zip(val_image_generator, val_mask_generator)\n",
    "\n"
   ]
  },
  {
   "cell_type": "code",
   "execution_count": null,
   "metadata": {},
   "outputs": [],
   "source": [
    "from keras.callbacks import ModelCheckpoint, CSVLogger, EarlyStopping\n",
    "from keras.optimizers import Adam"
   ]
  },
  {
   "cell_type": "code",
   "execution_count": null,
   "metadata": {},
   "outputs": [],
   "source": [
    "import model"
   ]
  },
  {
   "cell_type": "code",
   "execution_count": null,
   "metadata": {},
   "outputs": [],
   "source": [
    "no_of_training_imgs= len(os.listdir(data_path+'/train_frames/train/'))\n",
    "no_of_val_imgs= len(os.listdir(data_path+'/val_frames/val/'))\n",
    "\n",
    "no_epochs = 5\n",
    "\n",
    "batch_size = 32\n",
    "\n",
    "weights_path = data_path +'/weights/weights.h5'\n",
    "\n",
    "m= model.unet()\n",
    "\n",
    "check_point = ModelCheckpoint(weights_path, monitor='val_accuracy', verbose= 1, save_best_only=True, mode ='max')\n",
    "\n",
    "csv_logger = CSVLogger('./log.out', append =True, separator = ';')\n",
    "\n",
    "earlystopping = EarlyStopping(verbose=1,monitor='val_acc', min_delta=.01, patience = 3, mode = 'max')\n",
    "\n",
    "callbacks_list = [check_point, csv_logger, earlystopping]"
   ]
  },
  {
   "cell_type": "code",
   "execution_count": null,
   "metadata": {},
   "outputs": [],
   "source": [
    "results = m.fit_generator(train_generator, epochs = 2, steps_per_epoch=(360//32), validation_data= val_generator,validation_steps= (90//32), callbacks= callbacks_list )"
   ]
  },
  {
   "cell_type": "code",
   "execution_count": null,
   "metadata": {},
   "outputs": [],
   "source": [
    "m.summary()"
   ]
  },
  {
   "cell_type": "code",
   "execution_count": null,
   "metadata": {},
   "outputs": [],
   "source": []
  }
 ],
 "metadata": {
  "kernelspec": {
   "display_name": "Python 3",
   "language": "python",
   "name": "python3"
  },
  "language_info": {
   "codemirror_mode": {
    "name": "ipython",
    "version": 3
   },
   "file_extension": ".py",
   "mimetype": "text/x-python",
   "name": "python",
   "nbconvert_exporter": "python",
   "pygments_lexer": "ipython3",
   "version": "3.6.6"
  }
 },
 "nbformat": 4,
 "nbformat_minor": 2
}
